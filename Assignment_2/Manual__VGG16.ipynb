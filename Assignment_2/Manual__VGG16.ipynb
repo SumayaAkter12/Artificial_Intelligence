{
  "nbformat": 4,
  "nbformat_minor": 0,
  "metadata": {
    "colab": {
      "provenance": []
    },
    "kernelspec": {
      "name": "python3",
      "display_name": "Python 3"
    },
    "language_info": {
      "name": "python"
    }
  },
  "cells": [
    {
      "cell_type": "code",
      "source": [
        "from tensorflow.keras.applications import vgg16\n",
        "from tensorflow.keras.layers import Input, Dense, Activation, Flatten, Conv2D, MaxPooling2D\n",
        "from tensorflow.keras.models import Model\n",
        "import numpy as np"
      ],
      "metadata": {
        "id": "sDDJa-F06Xgm"
      },
      "execution_count": 1,
      "outputs": []
    },
    {
      "cell_type": "code",
      "source": [
        "def manual_vgg16():\n",
        "  inputs = input((224,224,3))\n",
        "  x = Conv2D(filters=64, kernel_size=(3,3), activation='relu', padding='same')(inputs)\n",
        "  x = Conv2D(filters=64, kernel_size=(3,3), activation='relu', padding='same')(x)\n",
        "  x = MaxPooling2D(name='maxpooling-1')(x)\n",
        "  x = Conv2D(filters=128, kernel_size=(3,3), activation='relu', padding='same')(x)\n",
        "  x = Conv2D(filters=128, kernel_size=(3,3), activation='relu', padding='same')(x)\n",
        "  x = MaxPooling2D(name='maxpooling-2')(x)\n",
        "  x = Conv2D(filters=256, kernel_size=(3,3), activation='relu', padding='same')(x)\n",
        "  x = Conv2D(filters=256, kernel_size=(3,3), activation='relu', padding='same')(x)\n",
        "  x = Conv2D(filters=256, kernel_size=(3,3), activation='relu', padding='same')(x)\n",
        "  x = MaxPooling2D(name='maxpooling-3')(x)\n",
        "  x = Conv2D(filters=512, kernel_size=(3,3), activation='relu', padding='same')(x)\n",
        "  x = Conv2D(filters=512, kernel_size=(3,3), activation='relu', padding='same')(x)\n",
        "  x = Conv2D(filters=512, kernel_size=(3,3), activation='relu', padding='same')(x)\n",
        "  x = MaxPooling2D(name='maxpooling-4')(x)\n",
        "  x = Conv2D(filters=512, kernel_size=(3,3), activation='relu', padding='same')(x)\n",
        "  x = Conv2D(filters=512, kernel_size=(3,3), activation='relu', padding='same')(x)\n",
        "  x = Conv2D(filters=512, kernel_size=(3,3), activation='relu', padding='same')(x)\n",
        "  x = MaxPooling2D(name='maxpooling-5')(x)\n",
        "  x = Flatten(x)\n",
        "  x = Dense(4096, activation='relu')(x)\n",
        "  x = Dense(4096, activation='relu')(x)\n",
        "  outputs = Dense(1000, activation='sigmoid', name='manual_model_output')(x)\n",
        "  model = Model(inputs, outputs)\n",
        "  return model\n",
        "\n",
        "manual_vgg16()"
      ],
      "metadata": {
        "id": "Oc4pm9eD6kCs"
      },
      "execution_count": null,
      "outputs": []
    }
  ]
}